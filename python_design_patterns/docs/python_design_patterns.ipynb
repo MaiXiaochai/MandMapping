{
 "cells": [
  {
   "cell_type": "code",
   "execution_count": 1,
   "metadata": {
    "ExecuteTime": {
     "end_time": "2018-08-15T08:10:49.144549Z",
     "start_time": "2018-08-15T08:10:49.138580Z"
    }
   },
   "outputs": [
    {
     "name": "stdout",
     "output_type": "stream",
     "text": [
      "Overwriting ../src/factory_method.py\n"
     ]
    }
   ],
   "source": [
    "%%writefile ../src/factory_method.py\n",
    "# --coding: utf-8 -*-\n",
    "\n",
    "import xml.etree.ElementTree as tree\n",
    "import json\n",
    "\n",
    "\"\"\"\n",
    "这里用抽象工厂方法，解决对XML和json文件的解析。\n",
    "注意编程中的代码组织方式和思想。\n",
    "\"\"\"\n",
    "\n",
    "class JsonConnector:\n",
    "    \"\"\"解析json文件\"\"\"\n",
    "    def __init__(self, filepath):\n",
    "        self.data = dict()\n",
    "        with open(filepath, mode='r', encoding='utf-8') as f:\n",
    "            self.data = json.load(f)\n",
    "    \n",
    "    @property\n",
    "    def parsed_data(self):\n",
    "        return self.data\n",
    "\n",
    "    \n",
    "class XmlConnector:\n",
    "    \"\"\"解析XML文件\"\"\"\n",
    "    def __init__(self, filepath):\n",
    "        self.tree = tree.parse(filepath)\n",
    "        \n",
    "    @property\n",
    "    def parsed_data(self):\n",
    "        return self.tree\n",
    "    \n",
    "\n",
    "def connection_factory(filepath):\n",
    "    \"\"\"一个工厂方法，基于输入文件的扩展名返回一个JsonConnector或XmlConnector的实例\"\"\"\n",
    "    if filepath.endwith('json'):\n",
    "        connector = JsonConnector\n",
    "    \n",
    "    elif filepath.endwith('xml'):\n",
    "        connector = XmlConnector\n",
    "\n",
    "    else:\n",
    "        raise ValueError('Cannot connect to {}'.format(filepath))\n",
    "    return connector\n",
    "    \n",
    "\n",
    "def connect_to(filepath):\n",
    "    \"\"\"该函数对connection_factory()进行包装，添加了异常处理。\"\"\"\n",
    "    factory = None\n",
    "    try:\n",
    "        factory = connection_factory(filepath)\n",
    "    except ValueError as ve:\n",
    "        print(ve)\n",
    "    \n",
    "    # 根据effective python中的建议，这里最好不要返回None，\n",
    "    # 最好返回一个二元元组，第一个元素表示是否成功得到connector，第二元素表示connector，\n",
    "    # 若True，第二个是connector实例，若False，第二个元素为空\n",
    "    return factory\n",
    "\n",
    "\n",
    "def main():\n",
    "    \"\"\"演示如何使用工厂方法\"\"\"\n",
    "    sqlite_factory = connect_to('data/person.sq3')\n",
    "    \n",
    "\n",
    "if __name__ == '__main__':\n",
    "    pass\n"
   ]
  },
  {
   "cell_type": "code",
   "execution_count": 2,
   "metadata": {
    "ExecuteTime": {
     "end_time": "2018-08-15T08:10:59.663258Z",
     "start_time": "2018-08-15T08:10:59.657298Z"
    }
   },
   "outputs": [
    {
     "name": "stdout",
     "output_type": "stream",
     "text": [
      "Overwriting ../src/abstract_factory.py\n"
     ]
    }
   ],
   "source": [
    "%%writefile ../src/abstract_factory.py\n",
    "# --coding: utf-8 --\n",
    "\n"
   ]
  }
 ],
 "metadata": {
  "kernelspec": {
   "display_name": "Python 3",
   "language": "python",
   "name": "python3"
  },
  "language_info": {
   "codemirror_mode": {
    "name": "ipython",
    "version": 3
   },
   "file_extension": ".py",
   "mimetype": "text/x-python",
   "name": "python",
   "nbconvert_exporter": "python",
   "pygments_lexer": "ipython3",
   "version": "3.5.3"
  },
  "latex_envs": {
   "LaTeX_envs_menu_present": true,
   "autoclose": false,
   "autocomplete": true,
   "bibliofile": "biblio.bib",
   "cite_by": "apalike",
   "current_citInitial": 1,
   "eqLabelWithNumbers": true,
   "eqNumInitial": 1,
   "hotkeys": {
    "equation": "Ctrl-E",
    "itemize": "Ctrl-I"
   },
   "labels_anchors": false,
   "latex_user_defs": false,
   "report_style_numbering": false,
   "user_envs_cfg": false
  },
  "toc": {
   "base_numbering": 1,
   "nav_menu": {},
   "number_sections": true,
   "sideBar": true,
   "skip_h1_title": false,
   "title_cell": "Table of Contents",
   "title_sidebar": "Contents",
   "toc_cell": false,
   "toc_position": {},
   "toc_section_display": true,
   "toc_window_display": false
  },
  "varInspector": {
   "cols": {
    "lenName": 16,
    "lenType": 16,
    "lenVar": 40
   },
   "kernels_config": {
    "python": {
     "delete_cmd_postfix": "",
     "delete_cmd_prefix": "del ",
     "library": "var_list.py",
     "varRefreshCmd": "print(var_dic_list())"
    },
    "r": {
     "delete_cmd_postfix": ") ",
     "delete_cmd_prefix": "rm(",
     "library": "var_list.r",
     "varRefreshCmd": "cat(var_dic_list()) "
    }
   },
   "types_to_exclude": [
    "module",
    "function",
    "builtin_function_or_method",
    "instance",
    "_Feature"
   ],
   "window_display": false
  }
 },
 "nbformat": 4,
 "nbformat_minor": 2
}
